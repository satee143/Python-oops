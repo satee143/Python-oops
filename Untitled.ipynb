{
 "cells": [
  {
   "cell_type": "code",
   "execution_count": 12,
   "metadata": {},
   "outputs": [
    {
     "name": "stdout",
     "output_type": "stream",
     "text": [
      "Dusa\n",
      "Dusa\n",
      "Dusa\n",
      "Dusa\n",
      "Dusa\n",
      "Dusa\n",
      "Dusa\n",
      "Dusa\n",
      "Satheesh\n",
      "Satheesh\n",
      "Satheesh\n",
      "Satheesh\n",
      "Satheesh\n",
      "Satheesh\n",
      "Satheesh\n",
      "Satheesh\n",
      "Satheesh\n",
      "Satheesh\n",
      "Dusa\n",
      "Dusa\n"
     ]
    }
   ],
   "source": [
    "from threading import *\n",
    "#import threading\n",
    "def display():\n",
    "\tfor i in range(10):\n",
    "\t\tprint('Dusa')\n",
    "\t\t\n",
    "t=Thread(target=display)\n",
    "t.start()\n",
    "#print(current_thread().getName())\n",
    "for i in range(10):\n",
    "\tprint('Satheesh')\n",
    "#print(current_thread().getName())\n",
    "\t\n",
    "#print(current_thread().getName())\n"
   ]
  },
  {
   "cell_type": "code",
   "execution_count": null,
   "metadata": {},
   "outputs": [],
   "source": []
  }
 ],
 "metadata": {
  "kernelspec": {
   "display_name": "Python 3",
   "language": "python",
   "name": "python3"
  },
  "language_info": {
   "codemirror_mode": {
    "name": "ipython",
    "version": 3
   },
   "file_extension": ".py",
   "mimetype": "text/x-python",
   "name": "python",
   "nbconvert_exporter": "python",
   "pygments_lexer": "ipython3",
   "version": "3.8.3"
  }
 },
 "nbformat": 4,
 "nbformat_minor": 4
}
